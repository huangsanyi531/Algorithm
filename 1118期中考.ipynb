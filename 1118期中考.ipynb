{
  "nbformat": 4,
  "nbformat_minor": 0,
  "metadata": {
    "colab": {
      "name": "1118期中考.ipynb",
      "provenance": [],
      "collapsed_sections": [],
      "include_colab_link": true
    },
    "kernelspec": {
      "name": "python3",
      "display_name": "Python 3"
    }
  },
  "cells": [
    {
      "cell_type": "markdown",
      "metadata": {
        "id": "view-in-github",
        "colab_type": "text"
      },
      "source": [
        "<a href=\"https://colab.research.google.com/github/huangsanyi531/Algorithm/blob/master/1118%E6%9C%9F%E4%B8%AD%E8%80%83.ipynb\" target=\"_parent\"><img src=\"https://colab.research.google.com/assets/colab-badge.svg\" alt=\"Open In Colab\"/></a>"
      ]
    },
    {
      "cell_type": "markdown",
      "metadata": {
        "id": "j95w6SLwOC0z"
      },
      "source": [
        "Insertion sort (插入排序)"
      ]
    },
    {
      "cell_type": "code",
      "metadata": {
        "id": "BxBaYEwzNj_v",
        "colab": {
          "base_uri": "https://localhost:8080/"
        },
        "outputId": "597d3d51-5f71-406e-d01b-cb4a91192a18"
      },
      "source": [
        "def insertionSort(arr):\n",
        "  n = 0\n",
        "  for i in range(len(arr)):\n",
        "     preIndex = i-1\n",
        "     temp = arr[i]  #暫存資料\n",
        "     while preIndex >= 0 and arr[preIndex] > temp: \n",
        "         arr[preIndex+1] = arr[preIndex]  #將所有元素往後推一個位置\n",
        "         preIndex-=1\n",
        "     arr[preIndex+1] = temp  #將最小元素放到第一個\n",
        "     if n == 0:   #這裡做判定是因為這個插入排序的演算法第一步就會先列出原本的陣列了\n",
        "      print(\"初始數列為:\", num)   \n",
        "      n += 1\n",
        "     else:\n",
        "       print(f\"第%d次排序:{arr}\"%n)\n",
        "       n += 1\n",
        "  return arr\n",
        "\n",
        "if __name__ == '__main__':\n",
        "    import random\n",
        "    num = [random.randint(0,100) for i in range(8)] #在0~100之間隨機抽8個數\n",
        "    random.shuffle(num)\n",
        "    nums = insertionSort(num)\n",
        "    print('---'*15)\n",
        "    #Insertion_Sort(nums)"
      ],
      "execution_count": 128,
      "outputs": [
        {
          "output_type": "stream",
          "text": [
            "初始數列為: [10, 56, 7, 74, 97, 47, 48, 24]\n",
            "第1次排序:[10, 56, 7, 74, 97, 47, 48, 24]\n",
            "第2次排序:[7, 10, 56, 74, 97, 47, 48, 24]\n",
            "第3次排序:[7, 10, 56, 74, 97, 47, 48, 24]\n",
            "第4次排序:[7, 10, 56, 74, 97, 47, 48, 24]\n",
            "第5次排序:[7, 10, 47, 56, 74, 97, 48, 24]\n",
            "第6次排序:[7, 10, 47, 48, 56, 74, 97, 24]\n",
            "第7次排序:[7, 10, 24, 47, 48, 56, 74, 97]\n",
            "---------------------------------------------\n"
          ],
          "name": "stdout"
        }
      ]
    },
    {
      "cell_type": "markdown",
      "metadata": {
        "id": "lIA91ezIom2W"
      },
      "source": [
        "Selection sort(選擇排序)"
      ]
    },
    {
      "cell_type": "code",
      "metadata": {
        "colab": {
          "base_uri": "https://localhost:8080/"
        },
        "id": "h0DKmShCoqSk",
        "outputId": "e299f257-1b34-4ffd-b223-d8377755c051"
      },
      "source": [
        "def selectionSort(datas):\n",
        "  n = 1\n",
        "  for i in range(len(datas)-1):\n",
        "    max = i\n",
        "    for j in range(i+1, len(datas)):\n",
        "      if datas[j] > datas[max]: #比較第i個元素和第j個元素\n",
        "        max = j         #第j個元素較大 將max值改為第j個元素的值\n",
        "    \n",
        "    datas[i], datas[max] = datas[max], datas[i]  #將i和max值做交換\n",
        "    print(f\"第%d次排序:{datas}\" %n)\n",
        "    n+=1\n",
        "  return datas\n",
        "\n",
        "if __name__ == \"__main__\":\n",
        "  import random\n",
        "  num = [random.randint(0,100) for i in range(8)] #在0~100之間隨機抽8個數\n",
        "  random.shuffle(num)\n",
        "  nums = selectionSort(num)\n",
        "  print('---'*15)"
      ],
      "execution_count": 129,
      "outputs": [
        {
          "output_type": "stream",
          "text": [
            "第1次排序:[89, 50, 65, 9, 66, 51, 55, 15]\n",
            "第2次排序:[89, 66, 65, 9, 50, 51, 55, 15]\n",
            "第3次排序:[89, 66, 65, 9, 50, 51, 55, 15]\n",
            "第4次排序:[89, 66, 65, 55, 50, 51, 9, 15]\n",
            "第5次排序:[89, 66, 65, 55, 51, 50, 9, 15]\n",
            "第6次排序:[89, 66, 65, 55, 51, 50, 9, 15]\n",
            "第7次排序:[89, 66, 65, 55, 51, 50, 15, 9]\n",
            "---------------------------------------------\n"
          ],
          "name": "stdout"
        }
      ]
    }
  ]
}