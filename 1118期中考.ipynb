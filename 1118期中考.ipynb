{
  "nbformat": 4,
  "nbformat_minor": 0,
  "metadata": {
    "colab": {
      "name": "1118期中考.ipynb",
      "provenance": [],
      "collapsed_sections": [],
      "include_colab_link": true
    },
    "kernelspec": {
      "name": "python3",
      "display_name": "Python 3"
    }
  },
  "cells": [
    {
      "cell_type": "markdown",
      "metadata": {
        "id": "view-in-github",
        "colab_type": "text"
      },
      "source": [
        "<a href=\"https://colab.research.google.com/github/huangsanyi531/Algorithm/blob/master/1118%E6%9C%9F%E4%B8%AD%E8%80%83.ipynb\" target=\"_parent\"><img src=\"https://colab.research.google.com/assets/colab-badge.svg\" alt=\"Open In Colab\"/></a>"
      ]
    },
    {
      "cell_type": "markdown",
      "metadata": {
        "id": "j95w6SLwOC0z"
      },
      "source": [
        "Insertion sort (插入排序)"
      ]
    },
    {
      "cell_type": "code",
      "metadata": {
        "id": "BxBaYEwzNj_v",
        "colab": {
          "base_uri": "https://localhost:8080/"
        },
        "outputId": "ba45b951-1aa3-4964-d38a-931530c41166"
      },
      "source": [
        "\n",
        "def Insertion_Sort(datas):\n",
        "    for i in range(1, len(datas)):\n",
        "        for j in range(i):\n",
        "            current = datas[i]  #暫存資料\n",
        "            if current < datas[j]:\n",
        "                for k in range(i,j):\n",
        "                  print(datas)\n",
        "    return datas\n",
        "\n",
        "\n",
        "#def insertionSort(arr):\n",
        "#    for i in range(len(arr)):\n",
        "#        preIndex = i-1\n",
        "#        current = arr[i]\n",
        "#        while preIndex >= 0 and arr[preIndex] > current:\n",
        "#            arr[preIndex+1] = arr[preIndex]\n",
        "#            preIndex-=1\n",
        "#        arr[preIndex+1] = current\n",
        "#        print(arr)\n",
        "#    return arr\n",
        "\n",
        "if __name__ == '__main__':\n",
        "    import random\n",
        "    num = [random.randint(0,100) for i in range(8)]\n",
        "    random.shuffle(num)\n",
        "\n",
        "    arr = insertionSort(num)\n",
        "    print('---'*11)\n",
        "    #Insertion_Sort(nums)"
      ],
      "execution_count": 57,
      "outputs": [
        {
          "output_type": "stream",
          "text": [
            "[79, 3, 99, 77, 50, 66, 33, 43]\n",
            "[3, 79, 99, 77, 50, 66, 33, 43]\n",
            "[3, 79, 99, 77, 50, 66, 33, 43]\n",
            "[3, 77, 79, 99, 50, 66, 33, 43]\n",
            "[3, 50, 77, 79, 99, 66, 33, 43]\n",
            "[3, 50, 66, 77, 79, 99, 33, 43]\n",
            "[3, 33, 50, 66, 77, 79, 99, 43]\n",
            "[3, 33, 43, 50, 66, 77, 79, 99]\n",
            "---------------------------------\n"
          ],
          "name": "stdout"
        }
      ]
    }
  ]
}