{
  "nbformat": 4,
  "nbformat_minor": 0,
  "metadata": {
    "colab": {
      "name": "1118期中考.ipynb",
      "provenance": [],
      "collapsed_sections": [],
      "include_colab_link": true
    },
    "kernelspec": {
      "name": "python3",
      "display_name": "Python 3"
    }
  },
  "cells": [
    {
      "cell_type": "markdown",
      "metadata": {
        "id": "view-in-github",
        "colab_type": "text"
      },
      "source": [
        "<a href=\"https://colab.research.google.com/github/huangsanyi531/Algorithm/blob/master/1118%E6%9C%9F%E4%B8%AD%E8%80%83.ipynb\" target=\"_parent\"><img src=\"https://colab.research.google.com/assets/colab-badge.svg\" alt=\"Open In Colab\"/></a>"
      ]
    },
    {
      "cell_type": "markdown",
      "metadata": {
        "id": "j95w6SLwOC0z"
      },
      "source": [
        "Insertion sort (插入排序)"
      ]
    },
    {
      "cell_type": "code",
      "metadata": {
        "id": "BxBaYEwzNj_v",
        "colab": {
          "base_uri": "https://localhost:8080/"
        },
        "outputId": "1694daa6-0e59-4fb4-f9f6-73374147370a"
      },
      "source": [
        "def insertionSort(arr):\n",
        "  n = 0\n",
        "  for i in range(len(arr)):\n",
        "     preIndex = i-1\n",
        "     temp = arr[i]  #暫存資料\n",
        "     while preIndex >= 0 and arr[preIndex] > temp: \n",
        "         arr[preIndex+1] = arr[preIndex]  #將所有元素往後推一個位置\n",
        "         preIndex-=1\n",
        "     arr[preIndex+1] = temp  #將最小元素放到第一個\n",
        "     print(f\"第%d次排序:{arr}\"%n)\n",
        "     n += 1\n",
        "  return arr\n",
        "\n",
        "if __name__ == '__main__':\n",
        "    import random\n",
        "    num = [random.randint(0,100) for i in range(8)] #在0~100之間隨機抽8個數\n",
        "    random.shuffle(num)\n",
        "    print(\"初始數列為:\", num)\n",
        "    nums = insertionSort(num)\n",
        "    print('---'*15)\n",
        "    #Insertion_Sort(nums)"
      ],
      "execution_count": 121,
      "outputs": [
        {
          "output_type": "stream",
          "text": [
            "初始數列為: [22, 97, 57, 65, 12, 28, 62, 36]\n",
            "第0次排序:[22, 97, 57, 65, 12, 28, 62, 36]\n",
            "第1次排序:[22, 97, 57, 65, 12, 28, 62, 36]\n",
            "第2次排序:[22, 57, 97, 65, 12, 28, 62, 36]\n",
            "第3次排序:[22, 57, 65, 97, 12, 28, 62, 36]\n",
            "第4次排序:[12, 22, 57, 65, 97, 28, 62, 36]\n",
            "第5次排序:[12, 22, 28, 57, 65, 97, 62, 36]\n",
            "第6次排序:[12, 22, 28, 57, 62, 65, 97, 36]\n",
            "第7次排序:[12, 22, 28, 36, 57, 62, 65, 97]\n",
            "---------------------------------------------\n"
          ],
          "name": "stdout"
        }
      ]
    },
    {
      "cell_type": "markdown",
      "metadata": {
        "id": "lIA91ezIom2W"
      },
      "source": [
        "Selection sort(選擇排序)"
      ]
    },
    {
      "cell_type": "code",
      "metadata": {
        "id": "h0DKmShCoqSk"
      },
      "source": [
        ""
      ],
      "execution_count": null,
      "outputs": []
    }
  ]
}