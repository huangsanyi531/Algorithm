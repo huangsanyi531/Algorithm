{
  "nbformat": 4,
  "nbformat_minor": 0,
  "metadata": {
    "colab": {
      "name": "1118期中考.ipynb",
      "provenance": [],
      "collapsed_sections": [],
      "include_colab_link": true
    },
    "kernelspec": {
      "name": "python3",
      "display_name": "Python 3"
    }
  },
  "cells": [
    {
      "cell_type": "markdown",
      "metadata": {
        "id": "view-in-github",
        "colab_type": "text"
      },
      "source": [
        "<a href=\"https://colab.research.google.com/github/huangsanyi531/Algorithm/blob/master/1118%E6%9C%9F%E4%B8%AD%E8%80%83.ipynb\" target=\"_parent\"><img src=\"https://colab.research.google.com/assets/colab-badge.svg\" alt=\"Open In Colab\"/></a>"
      ]
    },
    {
      "cell_type": "markdown",
      "metadata": {
        "id": "j95w6SLwOC0z"
      },
      "source": [
        "Insertion sort (插入排序)"
      ]
    },
    {
      "cell_type": "code",
      "metadata": {
        "id": "BxBaYEwzNj_v",
        "colab": {
          "base_uri": "https://localhost:8080/"
        },
        "outputId": "30476614-50c6-4d40-a413-98f07e1ae6b2"
      },
      "source": [
        "\n",
        "def Insertion_Sort(datas):\n",
        "  n=1\n",
        "  for i in range(1, len(datas)):\n",
        "    preIndex = i-1\n",
        "    temp = datas[i]\n",
        "    while preIndex >= 0 and datas[preIndex] > temp:\n",
        "      datas[preIndex +1] = datas[preIndex]\n",
        "      preIndex-=1\n",
        "    datas[preIndex+1] = temp\n",
        "    print(f\"第 %d 次排序:{datas}\" %n)\n",
        "    n += 1\n",
        "    return datas\n",
        "\n",
        "\n",
        "#def insertionSort(arr):\n",
        "#    for i in range(len(arr)):\n",
        "#        preIndex = i-1\n",
        "#        current = arr[i]\n",
        "#        while preIndex >= 0 and arr[preIndex] > current:\n",
        "#            arr[preIndex+1] = arr[preIndex]\n",
        "#            preIndex-=1\n",
        "#        arr[preIndex+1] = current\n",
        "#        print(arr)\n",
        "#    return arr\n",
        "\n",
        "if __name__ == '__main__':\n",
        "    import random\n",
        "    num = [random.randint(0,100) for i in range(8)]\n",
        "    random.shuffle(num)\n",
        "\n",
        "    nums = insertionSort(num)\n",
        "    print('---'*11)\n",
        "    #Insertion_Sort(nums)"
      ],
      "execution_count": 73,
      "outputs": [
        {
          "output_type": "stream",
          "text": [
            "[69, 79, 59, 54, 51, 95, 28, 24]\n",
            "[69, 79, 59, 54, 51, 95, 28, 24]\n",
            "[59, 69, 79, 54, 51, 95, 28, 24]\n",
            "[54, 59, 69, 79, 51, 95, 28, 24]\n",
            "[51, 54, 59, 69, 79, 95, 28, 24]\n",
            "[51, 54, 59, 69, 79, 95, 28, 24]\n",
            "[28, 51, 54, 59, 69, 79, 95, 24]\n",
            "[24, 28, 51, 54, 59, 69, 79, 95]\n",
            "---------------------------------\n"
          ],
          "name": "stdout"
        }
      ]
    }
  ]
}