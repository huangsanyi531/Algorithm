{
  "nbformat": 4,
  "nbformat_minor": 0,
  "metadata": {
    "colab": {
      "name": "1118期中考.ipynb",
      "provenance": [],
      "collapsed_sections": [],
      "include_colab_link": true
    },
    "kernelspec": {
      "name": "python3",
      "display_name": "Python 3"
    }
  },
  "cells": [
    {
      "cell_type": "markdown",
      "metadata": {
        "id": "view-in-github",
        "colab_type": "text"
      },
      "source": [
        "<a href=\"https://colab.research.google.com/github/huangsanyi531/Algorithm/blob/master/1118%E6%9C%9F%E4%B8%AD%E8%80%83.ipynb\" target=\"_parent\"><img src=\"https://colab.research.google.com/assets/colab-badge.svg\" alt=\"Open In Colab\"/></a>"
      ]
    },
    {
      "cell_type": "markdown",
      "metadata": {
        "id": "j95w6SLwOC0z"
      },
      "source": [
        "Insertion sort (插入排序)"
      ]
    },
    {
      "cell_type": "code",
      "metadata": {
        "id": "BxBaYEwzNj_v",
        "colab": {
          "base_uri": "https://localhost:8080/"
        },
        "outputId": "6b1da81b-22c4-4a8d-93f4-ec72bb39abf0"
      },
      "source": [
        "def insertionSort(a):\n",
        "  n = 0\n",
        "  for i in range(len(a)):\n",
        "     preIndex = i-1\n",
        "     temp = a[i]  #暫存資料\n",
        "     while preIndex >= 0 and a[preIndex] > temp: \n",
        "         a[preIndex+1] = a[preIndex]  #將所有元素往後推一個位置\n",
        "         preIndex-=1\n",
        "     a[preIndex+1] = temp  #將最小元素放到第一個\n",
        "     if n == 0:   #這裡做判定是因為插入排序演算法步驟一陣列不會發生變化，會先列出原本的陣列\n",
        "      print(\"初始數列為:\", num)   \n",
        "      n += 1\n",
        "     else:\n",
        "       print(f\"第%d次排序:{a}\"%n)\n",
        "       n += 1\n",
        "  return a\n",
        "\n",
        "if __name__ == '__main__':\n",
        "    import random\n",
        "    num = [random.randint(0,100) for i in range(8)] #在0~100之間隨機抽8個數\n",
        "    random.shuffle(num)\n",
        "    nums = insertionSort(num)\n",
        "    print('---'*15)"
      ],
      "execution_count": 158,
      "outputs": [
        {
          "output_type": "stream",
          "text": [
            "初始數列為: [38, 77, 94, 67, 34, 19, 93, 50]\n",
            "第1次排序:[38, 77, 94, 67, 34, 19, 93, 50]\n",
            "第2次排序:[38, 77, 94, 67, 34, 19, 93, 50]\n",
            "第3次排序:[38, 67, 77, 94, 34, 19, 93, 50]\n",
            "第4次排序:[34, 38, 67, 77, 94, 19, 93, 50]\n",
            "第5次排序:[19, 34, 38, 67, 77, 94, 93, 50]\n",
            "第6次排序:[19, 34, 38, 67, 77, 93, 94, 50]\n",
            "第7次排序:[19, 34, 38, 50, 67, 77, 93, 94]\n",
            "---------------------------------------------\n"
          ],
          "name": "stdout"
        }
      ]
    },
    {
      "cell_type": "markdown",
      "metadata": {
        "id": "lIA91ezIom2W"
      },
      "source": [
        "Selection sort(選擇排序)"
      ]
    },
    {
      "cell_type": "code",
      "metadata": {
        "colab": {
          "base_uri": "https://localhost:8080/"
        },
        "id": "h0DKmShCoqSk",
        "outputId": "21c906e0-ee1b-416a-803e-d27d29a3f337"
      },
      "source": [
        "def selectionSort(a):\n",
        "  n = 1\n",
        "  for i in range(len(a)-1):\n",
        "    max = i\n",
        "    for j in range(i+1, len(a)):\n",
        "      if a[j] > a[max]: #比較第i個元素和第j個元素\n",
        "        max = j         #第j個元素較大 將max值改為第j個元素的值\n",
        "    \n",
        "    a[i], a[max] = a[max], a[i]  #將i和max值做交換\n",
        "    print(f\"第%d次排序:{a}\"%n)\n",
        "    n += 1\n",
        "  return a\n",
        "\n",
        "if __name__ == \"__main__\":\n",
        "  import random\n",
        "  num = [random.randint(0,100) for i in range(8)] #在0~100之間隨機抽8個數\n",
        "  random.shuffle(num)\n",
        "  print(\"初始陣列為:\",num)\n",
        "  nums = selectionSort(num)\n",
        "  print('---'*15)"
      ],
      "execution_count": 159,
      "outputs": [
        {
          "output_type": "stream",
          "text": [
            "初始陣列為: [6, 34, 13, 75, 69, 19, 15, 15]\n",
            "第1次排序:[75, 34, 13, 6, 69, 19, 15, 15]\n",
            "第2次排序:[75, 69, 13, 6, 34, 19, 15, 15]\n",
            "第3次排序:[75, 69, 34, 6, 13, 19, 15, 15]\n",
            "第4次排序:[75, 69, 34, 19, 13, 6, 15, 15]\n",
            "第5次排序:[75, 69, 34, 19, 15, 6, 13, 15]\n",
            "第6次排序:[75, 69, 34, 19, 15, 15, 13, 6]\n",
            "第7次排序:[75, 69, 34, 19, 15, 15, 13, 6]\n",
            "---------------------------------------------\n"
          ],
          "name": "stdout"
        }
      ]
    }
  ]
}