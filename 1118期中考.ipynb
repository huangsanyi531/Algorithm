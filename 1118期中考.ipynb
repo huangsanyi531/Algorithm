{
  "nbformat": 4,
  "nbformat_minor": 0,
  "metadata": {
    "colab": {
      "name": "1118期中考.ipynb",
      "provenance": [],
      "collapsed_sections": [],
      "include_colab_link": true
    },
    "kernelspec": {
      "name": "python3",
      "display_name": "Python 3"
    }
  },
  "cells": [
    {
      "cell_type": "markdown",
      "metadata": {
        "id": "view-in-github",
        "colab_type": "text"
      },
      "source": [
        "<a href=\"https://colab.research.google.com/github/huangsanyi531/Algorithm/blob/master/1118%E6%9C%9F%E4%B8%AD%E8%80%83.ipynb\" target=\"_parent\"><img src=\"https://colab.research.google.com/assets/colab-badge.svg\" alt=\"Open In Colab\"/></a>"
      ]
    },
    {
      "cell_type": "markdown",
      "metadata": {
        "id": "j95w6SLwOC0z"
      },
      "source": [
        "Insertion sort (插入排序)"
      ]
    },
    {
      "cell_type": "code",
      "metadata": {
        "id": "BxBaYEwzNj_v",
        "colab": {
          "base_uri": "https://localhost:8080/"
        },
        "outputId": "2dc10474-e810-4d42-92bd-f73d55051079"
      },
      "source": [
        "def insertionSort(arr):\n",
        "  n = 0\n",
        "  for i in range(len(arr)):\n",
        "     preIndex = i-1\n",
        "     temp = arr[i]\n",
        "     while preIndex >= 0 and arr[preIndex] > temp:\n",
        "         arr[preIndex+1] = arr[preIndex]\n",
        "         preIndex-=1\n",
        "     arr[preIndex+1] = temp\n",
        "     print(f\"第%d次排序:{arr}\"%n)\n",
        "     n += 1\n",
        "  return arr\n",
        "\n",
        "if __name__ == '__main__':\n",
        "    import random\n",
        "    num = [random.randint(0,100) for i in range(8)] #在0~100之間隨機抽8個數\n",
        "    random.shuffle(num)\n",
        "    print(\"初始數列為:\", num)\n",
        "    nums = insertionSort(num)\n",
        "    print('---'*15)\n",
        "    #Insertion_Sort(nums)"
      ],
      "execution_count": 115,
      "outputs": [
        {
          "output_type": "stream",
          "text": [
            "初始數列為: [25, 47, 96, 94, 83, 17, 47, 39]\n",
            "第0次排序:[25, 47, 96, 94, 83, 17, 47, 39]\n",
            "第1次排序:[25, 47, 96, 94, 83, 17, 47, 39]\n",
            "第2次排序:[25, 47, 96, 94, 83, 17, 47, 39]\n",
            "第3次排序:[25, 47, 94, 96, 83, 17, 47, 39]\n",
            "第4次排序:[25, 47, 83, 94, 96, 17, 47, 39]\n",
            "第5次排序:[17, 25, 47, 83, 94, 96, 47, 39]\n",
            "第6次排序:[17, 25, 47, 47, 83, 94, 96, 39]\n",
            "第7次排序:[17, 25, 39, 47, 47, 83, 94, 96]\n",
            "---------------------------------------------\n"
          ],
          "name": "stdout"
        }
      ]
    }
  ]
}