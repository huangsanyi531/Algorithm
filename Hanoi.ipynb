{
  "nbformat": 4,
  "nbformat_minor": 0,
  "metadata": {
    "colab": {
      "name": "Hanoi.ipynb",
      "provenance": [],
      "collapsed_sections": [],
      "authorship_tag": "ABX9TyPim5A/ECgewiAVMyj8R1nx",
      "include_colab_link": true
    },
    "kernelspec": {
      "name": "python3",
      "display_name": "Python 3"
    }
  },
  "cells": [
    {
      "cell_type": "markdown",
      "metadata": {
        "id": "view-in-github",
        "colab_type": "text"
      },
      "source": [
        "<a href=\"https://colab.research.google.com/github/huangsanyi531/Algorithm/blob/master/Hanoi.ipynb\" target=\"_parent\"><img src=\"https://colab.research.google.com/assets/colab-badge.svg\" alt=\"Open In Colab\"/></a>"
      ]
    },
    {
      "cell_type": "code",
      "metadata": {
        "id": "Coc73sT2JF7j",
        "outputId": "3146992a-60e6-4689-be88-8cdd62375a06",
        "colab": {
          "base_uri": "https://localhost:8080/"
        }
      },
      "source": [
        "def hanoi(n, A=\"A\", B=\"B\", C=\"C\"):\n",
        "  global x\n",
        "  x += 1\n",
        "  if n == 1:\n",
        "    print(\"盤子從\"+A+\"移到\"+C)\n",
        "  else:\n",
        "    hanoi(n-1,A=\"A\",C=\"C\",B=\"B\")\n",
        "    print(\"將盤子從\"+A+\"移到\"+C)\n",
        "    hanoi(n-1,B=\"B\",A=\"A\",C=\"C\")\n",
        "  print(x)\n",
        "    \n",
        "n = int(input(\"請輸入盤子數量\"))\n",
        "hanoi(n, A=\"A\", B=\"B\", C=\"C\")\n",
        "print(\"步數為:\",x)\n",
        "x = 0"
      ],
      "execution_count": 38,
      "outputs": [
        {
          "output_type": "stream",
          "text": [
            "請輸入盤子數量3\n",
            "盤子從A移到C\n",
            "3\n",
            "將盤子從A移到C\n",
            "盤子從A移到C\n",
            "4\n",
            "4\n",
            "將盤子從A移到C\n",
            "盤子從A移到C\n",
            "6\n",
            "將盤子從A移到C\n",
            "盤子從A移到C\n",
            "7\n",
            "7\n",
            "7\n",
            "步數為: 7\n"
          ],
          "name": "stdout"
        }
      ]
    }
  ]
}