{
  "nbformat": 4,
  "nbformat_minor": 0,
  "metadata": {
    "colab": {
      "name": "Password.ipynb",
      "provenance": [],
      "authorship_tag": "ABX9TyOWbZ3fQHcMj7BL1qdFejV7",
      "include_colab_link": true
    },
    "kernelspec": {
      "name": "python3",
      "display_name": "Python 3"
    }
  },
  "cells": [
    {
      "cell_type": "markdown",
      "metadata": {
        "id": "view-in-github",
        "colab_type": "text"
      },
      "source": [
        "<a href=\"https://colab.research.google.com/github/huangsanyi531/Algorithm/blob/master/Password.ipynb\" target=\"_parent\"><img src=\"https://colab.research.google.com/assets/colab-badge.svg\" alt=\"Open In Colab\"/></a>"
      ]
    },
    {
      "cell_type": "code",
      "metadata": {
        "id": "WUitg8Yp9MZ1",
        "outputId": "84b4f7e4-d31a-4923-bdc2-c66ebe0567df",
        "colab": {
          "base_uri": "https://localhost:8080/"
        }
      },
      "source": [
        "import random\n",
        "\n",
        "L = 1\n",
        "R = 100\n",
        "x = random.randint(L,R)\n",
        "\n",
        "while True:\n",
        "  a = input(\"密碼介於\"+str(L)+\"~\"+str(R)+\"之間\\n\")\n",
        "  try:\n",
        "    a = int(a)\n",
        "  except ValueError:\n",
        "    print(\"請輸入數字\")\n",
        "    continue\n",
        "  if a <= L or a > R:\n",
        "    print(\"請輸入\"+str(L)+\"和\"+str(R)+\"之間的數字\")\n",
        "    continue\n",
        "  if a == x:\n",
        "    print(\"答對了\")\n",
        "    break\n",
        "  elif a < x:\n",
        "    L = a\n",
        "  else:\n",
        "    R = a\n"
      ],
      "execution_count": 9,
      "outputs": [
        {
          "output_type": "stream",
          "text": [
            "密碼介於1~100之間\n",
            "20\n",
            "密碼介於20~100之間\n",
            "35\n",
            "密碼介於35~100之間\n",
            "80\n",
            "密碼介於35~80之間\n",
            "42\n",
            "密碼介於42~80之間\n",
            "50\n",
            "密碼介於50~80之間\n",
            "60\n",
            "密碼介於60~80之間\n",
            "70\n",
            "密碼介於60~70之間\n",
            "75\n",
            "請輸入60和70之間的數字\n",
            "密碼介於60~70之間\n",
            "64\n",
            "密碼介於60~64之間\n",
            "53\n",
            "請輸入60和64之間的數字\n",
            "密碼介於60~64之間\n",
            "63\n",
            "答對了\n"
          ],
          "name": "stdout"
        }
      ]
    }
  ]
}