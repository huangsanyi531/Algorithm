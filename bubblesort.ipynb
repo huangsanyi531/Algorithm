{
  "nbformat": 4,
  "nbformat_minor": 0,
  "metadata": {
    "colab": {
      "name": "bubblesort.ipynb",
      "provenance": [],
      "include_colab_link": true
    },
    "kernelspec": {
      "name": "python3",
      "display_name": "Python 3"
    }
  },
  "cells": [
    {
      "cell_type": "markdown",
      "metadata": {
        "id": "view-in-github",
        "colab_type": "text"
      },
      "source": [
        "<a href=\"https://colab.research.google.com/github/huangsanyi531/Algorithm/blob/master/bubblesort.ipynb\" target=\"_parent\"><img src=\"https://colab.research.google.com/assets/colab-badge.svg\" alt=\"Open In Colab\"/></a>"
      ]
    },
    {
      "cell_type": "markdown",
      "metadata": {
        "id": "32sgU0StMiof"
      },
      "source": [
        "Bubble sort (氣泡排序)   2020/10/6"
      ]
    },
    {
      "cell_type": "code",
      "metadata": {
        "id": "esB_4fSeMLYJ",
        "outputId": "6323f0d7-1ffb-4f8f-ad3a-7451043b6832",
        "colab": {
          "base_uri": "https://localhost:8080/",
          "height": 170
        }
      },
      "source": [
        "def Bubble_Sort(datas):\n",
        "    for i in range(1, len(datas)): # \n",
        "        for j in range(len(datas)-i):   # \n",
        "            if datas[j] > datas[j+1]:   # \n",
        "                datas[j], datas[j+1] = datas[j+1], datas[j]\n",
        "    return datas\n",
        "\n",
        "\n",
        "if __name__ == '__main__':\n",
        "    import random\n",
        "    #a = list(range(20))\n",
        "    #random.shuffle(a)\n",
        "    my_list = []  #先設置一個串列\n",
        "    for i in range(6):   #這邊迴圈設6次  輸入六個數\n",
        "      a = input()\n",
        "      my_list.append(a)   #將輸入的數字放入串列中\n",
        "      for j in range(len(my_list[i])):  #在這邊將字串轉換為整數\n",
        "        my_list[i] = int(my_list[i])\n",
        "    print(my_list)   #照一開始輸入的順序排列\n",
        "    random.shuffle(my_list)\n",
        "    print(my_list)   #這邊多一行 為了讓上面那一行隨機有用\n",
        "    my_list = Bubble_Sort(my_list)\n",
        "    print(my_list)  #排列好的串列"
      ],
      "execution_count": 32,
      "outputs": [
        {
          "output_type": "stream",
          "text": [
            "15\n",
            "30\n",
            "17\n",
            "20\n",
            "16\n",
            "5\n",
            "[15, 30, 17, 20, 16, 5]\n",
            "[16, 5, 15, 17, 20, 30]\n",
            "[5, 15, 16, 17, 20, 30]\n"
          ],
          "name": "stdout"
        }
      ]
    },
    {
      "cell_type": "markdown",
      "metadata": {
        "id": "MOQ_aZKnM-wL"
      },
      "source": [
        "請加入註解，並將程式修改為加入六個數做氣泡排序\n"
      ]
    }
  ]
}