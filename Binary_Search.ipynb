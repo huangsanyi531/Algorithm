{
  "nbformat": 4,
  "nbformat_minor": 0,
  "metadata": {
    "colab": {
      "name": "Binary_Search.ipynb",
      "provenance": [],
      "authorship_tag": "ABX9TyN7m8YCswXK6bsGeih7LafX",
      "include_colab_link": true
    },
    "kernelspec": {
      "name": "python3",
      "display_name": "Python 3"
    }
  },
  "cells": [
    {
      "cell_type": "markdown",
      "metadata": {
        "id": "view-in-github",
        "colab_type": "text"
      },
      "source": [
        "<a href=\"https://colab.research.google.com/github/huangsanyi531/Algorithm/blob/master/Binary_Search.ipynb\" target=\"_parent\"><img src=\"https://colab.research.google.com/assets/colab-badge.svg\" alt=\"Open In Colab\"/></a>"
      ]
    },
    {
      "cell_type": "code",
      "metadata": {
        "id": "QZq0lo-l2ipb",
        "outputId": "49a76fc6-7c86-4ddb-e71c-50efb959eeed",
        "colab": {
          "base_uri": "https://localhost:8080/",
          "height": 527
        }
      },
      "source": [
        "def binarySearch(arr, l, r, x):\n",
        "  if r>= l:\n",
        "\n",
        "    mid = l + (r - l) // 2\n",
        "\n",
        "    if arr[mid] == x:\n",
        "      return mid\n",
        "\n",
        "    elif arr[mid] >x:\n",
        "      return binarySearch(arr, l, mid - 1, x)\n",
        "    \n",
        "    else:\n",
        "      return binarySearch(arr, mid + 1, r, x)\n",
        "  \n",
        "  else:\n",
        "    return -1\n",
        "\n",
        "arr = [5, 8, 9, 15, 30]\n",
        "#x = 9\n",
        "\n",
        "#Function call\n",
        "#result = binarySearch(arr, 0, len(arr)-1, x)\n",
        "\n",
        "for x in range(1,31):\n",
        "  result = binarySearch(arr, 0, len(arr)-1, x)\n",
        "  if result != -1:\n",
        "    print(x,\" 元素在索引 %d\" %result)\n",
        "  else:\n",
        "    print(x,\" 陣列中找不到該元素\")\n",
        "  x+=1"
      ],
      "execution_count": 18,
      "outputs": [
        {
          "output_type": "stream",
          "text": [
            "1  陣列中找不到該元素\n",
            "2  陣列中找不到該元素\n",
            "3  陣列中找不到該元素\n",
            "4  陣列中找不到該元素\n",
            "5  元素在索引 0\n",
            "6  陣列中找不到該元素\n",
            "7  陣列中找不到該元素\n",
            "8  元素在索引 1\n",
            "9  元素在索引 2\n",
            "10  陣列中找不到該元素\n",
            "11  陣列中找不到該元素\n",
            "12  陣列中找不到該元素\n",
            "13  陣列中找不到該元素\n",
            "14  陣列中找不到該元素\n",
            "15  元素在索引 3\n",
            "16  陣列中找不到該元素\n",
            "17  陣列中找不到該元素\n",
            "18  陣列中找不到該元素\n",
            "19  陣列中找不到該元素\n",
            "20  陣列中找不到該元素\n",
            "21  陣列中找不到該元素\n",
            "22  陣列中找不到該元素\n",
            "23  陣列中找不到該元素\n",
            "24  陣列中找不到該元素\n",
            "25  陣列中找不到該元素\n",
            "26  陣列中找不到該元素\n",
            "27  陣列中找不到該元素\n",
            "28  陣列中找不到該元素\n",
            "29  陣列中找不到該元素\n",
            "30  元素在索引 4\n"
          ],
          "name": "stdout"
        }
      ]
    },
    {
      "cell_type": "code",
      "metadata": {
        "id": "8nWigx0i_n22",
        "outputId": "f2459234-e2c1-46a9-c240-4d97d78eece6",
        "colab": {
          "base_uri": "https://localhost:8080/",
          "height": 204
        }
      },
      "source": [
        "def Bubble_Sort(datas):\n",
        "    for i in range(1, len(datas)): # \n",
        "        for j in range(len(datas)-i):   # \n",
        "            if datas[j] > datas[j+1]:   # \n",
        "                datas[j], datas[j+1] = datas[j+1], datas[j]\n",
        "    return datas\n",
        "\n",
        "\n",
        "def binarySearch(arr, l, r, x):\n",
        "  if r>= l:\n",
        "\n",
        "    mid = l + (r - l) // 2\n",
        "\n",
        "    if arr[mid] == x:\n",
        "      return mid\n",
        "\n",
        "    elif arr[mid] >x:\n",
        "      return binarySearch(arr, l, mid - 1, x)\n",
        "    \n",
        "    else:\n",
        "      return binarySearch(arr, mid + 1, r, x)\n",
        "  \n",
        "  else:\n",
        "    return -1\n",
        "arr = []\n",
        "\n",
        "if __name__ == '__main__':  #bubbleSort\n",
        "    import random\n",
        "    #a = list(range(20))\n",
        "    #random.shuffle(a)\n",
        "    arr = []  #先設置一個串列\n",
        "    for i in range(6):   #這邊迴圈設6次  輸入六個數\n",
        "      a = input(\"請輸入數字:\")\n",
        "      arr.append(a)   #將輸入的數字放入串列中\n",
        "      for j in range(len(arr[i])):  #在這邊將字串轉換為整數\n",
        "        arr[i] = int(arr[i])\n",
        "    print(arr)   #照一開始輸入的順序排列\n",
        "    random.shuffle(arr)\n",
        "    print(arr)   #這邊多一行 為了讓上面那一行隨機有用\n",
        "    arr = Bubble_Sort(arr)\n",
        "    print(arr)  #排列好的串列\n",
        "\n",
        "\n",
        "x = int(input(\"請輸入一個數字\"))\n",
        "\n",
        "#Function call\n",
        "result = binarySearch(arr, 0, len(arr)-1, x)\n",
        "\n",
        "if result != -1:\n",
        "  print(x,\" 元素在索引 %d\" %result)\n",
        "else:\n",
        "  print(x,\" 陣列中找不到該元素\")"
      ],
      "execution_count": 28,
      "outputs": [
        {
          "output_type": "stream",
          "text": [
            "請輸入數字:3\n",
            "請輸入數字:5\n",
            "請輸入數字:12\n",
            "請輸入數字:7\n",
            "請輸入數字:99\n",
            "請輸入數字:18\n",
            "[3, 5, 12, 7, 99, 18]\n",
            "[12, 5, 99, 7, 18, 3]\n",
            "[3, 5, 7, 12, 18, 99]\n",
            "請輸入一個數字13\n",
            "13  陣列中找不到該元素\n"
          ],
          "name": "stdout"
        }
      ]
    }
  ]
}