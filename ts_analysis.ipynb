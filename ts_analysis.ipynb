{
  "nbformat": 4,
  "nbformat_minor": 0,
  "metadata": {
    "colab": {
      "name": "ts_analysis.ipynb",
      "provenance": [],
      "authorship_tag": "ABX9TyOreaLdIl1wfcRR4s7MHrua",
      "include_colab_link": true
    },
    "kernelspec": {
      "name": "python3",
      "display_name": "Python 3"
    }
  },
  "cells": [
    {
      "cell_type": "markdown",
      "metadata": {
        "id": "view-in-github",
        "colab_type": "text"
      },
      "source": [
        "<a href=\"https://colab.research.google.com/github/huangsanyi531/Algorithm/blob/master/ts_analysis.ipynb\" target=\"_parent\"><img src=\"https://colab.research.google.com/assets/colab-badge.svg\" alt=\"Open In Colab\"/></a>"
      ]
    },
    {
      "cell_type": "markdown",
      "metadata": {
        "id": "WqRl3Syd5k8g"
      },
      "source": [
        "方法一:用時間換空間  須經過一系列的計算來得到結果\n"
      ]
    },
    {
      "cell_type": "code",
      "metadata": {
        "id": "KiUoQjGx5Kl5",
        "outputId": "a4805af8-3123-4394-b64b-524c02c88a54",
        "colab": {
          "base_uri": "https://localhost:8080/"
        }
      },
      "source": [
        "Y = int(input())            #使用者輸入一個年份\n",
        "if (Y%4) == 0:             #以下為是否為閏年的判斷式 逢四閏 逢百不閏 逢四百再閏\n",
        "  if (Y%100) == 0:\n",
        "    if (Y%400) == 0:\n",
        "      print(str(Y)+\"是閏年\")\n",
        "    else:\n",
        "      print(str(Y)+\"是平年\")\n",
        "  else:\n",
        "    print(str(Y)+\"是閏年\")\n",
        "else:\n",
        "  print(str(Y)+\"是平年\")"
      ],
      "execution_count": 25,
      "outputs": [
        {
          "output_type": "stream",
          "text": [
            "2016\n",
            "2016是閏年\n"
          ],
          "name": "stdout"
        }
      ]
    },
    {
      "cell_type": "markdown",
      "metadata": {
        "id": "nD1Z-Bws54Be"
      },
      "source": [
        "方法二:用空間換時間 先列一個串列儲存閏年的年份 每一次查詢只需要搜尋一次索引值即可 從2000年~2040年"
      ]
    },
    {
      "cell_type": "code",
      "metadata": {
        "id": "KYMsHqAA5i5E",
        "outputId": "ca84bf3a-1914-43c6-bce5-c47bc210c324",
        "colab": {
          "base_uri": "https://localhost:8080/"
        }
      },
      "source": [
        "leap_year = [2000,2004,2008,2012,2016,2020,2024,2028,2032,2036,2040]  #先將2000年到2040年 閏年的年份都列出來\n",
        "Y = int(input(\"請輸入介於2000~2040的年份:\"))                            #使用者輸入介於2000~2040的年份\n",
        "if Y in leap_year:                           #將使用者輸入的年份與串列作比對\n",
        "  print(str(Y)+\"是閏年\")\n",
        "else:\n",
        "  print(str(Y)+\"不是閏年\")"
      ],
      "execution_count": 24,
      "outputs": [
        {
          "output_type": "stream",
          "text": [
            "2018\n",
            "2018不是閏年\n"
          ],
          "name": "stdout"
        }
      ]
    }
  ]
}