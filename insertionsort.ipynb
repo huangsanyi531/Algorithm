{
  "nbformat": 4,
  "nbformat_minor": 0,
  "metadata": {
    "colab": {
      "name": "insertionsort.ipynb",
      "provenance": [],
      "collapsed_sections": [],
      "include_colab_link": true
    },
    "kernelspec": {
      "name": "python3",
      "display_name": "Python 3"
    }
  },
  "cells": [
    {
      "cell_type": "markdown",
      "metadata": {
        "id": "view-in-github",
        "colab_type": "text"
      },
      "source": [
        "<a href=\"https://colab.research.google.com/github/huangsanyi531/Algorithm/blob/master/insertionsort.ipynb\" target=\"_parent\"><img src=\"https://colab.research.google.com/assets/colab-badge.svg\" alt=\"Open In Colab\"/></a>"
      ]
    },
    {
      "cell_type": "markdown",
      "metadata": {
        "id": "j95w6SLwOC0z"
      },
      "source": [
        "Insertion sort (插入排序)  2020/10/6"
      ]
    },
    {
      "cell_type": "code",
      "metadata": {
        "id": "BxBaYEwzNj_v",
        "outputId": "691942cc-3890-428a-a175-7d85640b9cb3",
        "colab": {
          "base_uri": "https://localhost:8080/",
          "height": 306
        }
      },
      "source": [
        "\n",
        "def Insertion_Sort(datas):\n",
        "    for i in range(1, len(datas)):  # 從1到n 但len(datas)是從0開始算  n不算  所以共n-1次\n",
        "        for j in range(i):  # [((n-1)+1)*(n-1)]/2=(n^2*n)/2=\n",
        "            current = datas[i] # 上面那行-1\n",
        "            if current < datas[j]:  \n",
        "                for k in range(i,j): #[(n-1)*(n-1+1)*(n-1+2)]/6\n",
        "                  print(datas) \n",
        "    return datas\n",
        "     # BigO()=n^3\n",
        "\n",
        "def insertionSort(arr):\n",
        "    for i in range(len(arr)):  #n\n",
        "        preIndex = i-1    #n\n",
        "        current = arr[i]   #n\n",
        "        while preIndex >= 0 and arr[preIndex] > current:  #n\n",
        "            arr[preIndex+1] = arr[preIndex]         #while條件達成次數\n",
        "            preIndex-=1                    #同上\n",
        "        arr[preIndex+1] = current                #n\n",
        "        print(arr)                        #n\n",
        "    return arr\n",
        "          #BigO()=n^2\n",
        "if __name__ == '__main__':\n",
        "    import random\n",
        "    a = list(range(16))\n",
        "    random.shuffle(a)\n",
        "    b = a.copy()\n",
        "\n",
        "    arr = insertionSort(a)\n",
        "    print('---'*20)\n",
        "    Insertion_Sort(b)"
      ],
      "execution_count": null,
      "outputs": [
        {
          "output_type": "stream",
          "text": [
            "[2, 14, 3, 7, 12, 10, 13, 9, 4, 15, 5, 0, 8, 11, 1, 6]\n",
            "[2, 14, 3, 7, 12, 10, 13, 9, 4, 15, 5, 0, 8, 11, 1, 6]\n",
            "[2, 3, 14, 7, 12, 10, 13, 9, 4, 15, 5, 0, 8, 11, 1, 6]\n",
            "[2, 3, 7, 14, 12, 10, 13, 9, 4, 15, 5, 0, 8, 11, 1, 6]\n",
            "[2, 3, 7, 12, 14, 10, 13, 9, 4, 15, 5, 0, 8, 11, 1, 6]\n",
            "[2, 3, 7, 10, 12, 14, 13, 9, 4, 15, 5, 0, 8, 11, 1, 6]\n",
            "[2, 3, 7, 10, 12, 13, 14, 9, 4, 15, 5, 0, 8, 11, 1, 6]\n",
            "[2, 3, 7, 9, 10, 12, 13, 14, 4, 15, 5, 0, 8, 11, 1, 6]\n",
            "[2, 3, 4, 7, 9, 10, 12, 13, 14, 15, 5, 0, 8, 11, 1, 6]\n",
            "[2, 3, 4, 7, 9, 10, 12, 13, 14, 15, 5, 0, 8, 11, 1, 6]\n",
            "[2, 3, 4, 5, 7, 9, 10, 12, 13, 14, 15, 0, 8, 11, 1, 6]\n",
            "[0, 2, 3, 4, 5, 7, 9, 10, 12, 13, 14, 15, 8, 11, 1, 6]\n",
            "[0, 2, 3, 4, 5, 7, 8, 9, 10, 12, 13, 14, 15, 11, 1, 6]\n",
            "[0, 2, 3, 4, 5, 7, 8, 9, 10, 11, 12, 13, 14, 15, 1, 6]\n",
            "[0, 1, 2, 3, 4, 5, 7, 8, 9, 10, 11, 12, 13, 14, 15, 6]\n",
            "[0, 1, 2, 3, 4, 5, 6, 7, 8, 9, 10, 11, 12, 13, 14, 15]\n",
            "------------------------------------------------------------\n"
          ],
          "name": "stdout"
        }
      ]
    }
  ]
}