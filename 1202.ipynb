{
  "nbformat": 4,
  "nbformat_minor": 0,
  "metadata": {
    "colab": {
      "name": "1202.ipynb",
      "provenance": [],
      "collapsed_sections": [],
      "authorship_tag": "ABX9TyMc8XrwWzge+TnD4G+xzl8V",
      "include_colab_link": true
    },
    "kernelspec": {
      "name": "python3",
      "display_name": "Python 3"
    }
  },
  "cells": [
    {
      "cell_type": "markdown",
      "metadata": {
        "id": "view-in-github",
        "colab_type": "text"
      },
      "source": [
        "<a href=\"https://colab.research.google.com/github/huangsanyi531/Algorithm/blob/master/1202.ipynb\" target=\"_parent\"><img src=\"https://colab.research.google.com/assets/colab-badge.svg\" alt=\"Open In Colab\"/></a>"
      ]
    },
    {
      "cell_type": "code",
      "metadata": {
        "id": "y34pnHuCI-xt",
        "colab": {
          "base_uri": "https://localhost:8080/"
        },
        "outputId": "b0892e60-9353-4484-9544-486c72be118a"
      },
      "source": [
        "t = [25,20,5,1]\n",
        "\n",
        "# n=多少錢\n",
        "def change(t,n):\n",
        "  m = [0 for _ in range(len(t))]\n",
        "  for i,money in enumerate(t):\n",
        "    m[i] = n//money\n",
        "    n = n%money\n",
        "    print(m,n)\n",
        "  #return m,n\n",
        "\n",
        "change(t,41)\n",
        "#print(change(t,41))"
      ],
      "execution_count": 16,
      "outputs": [
        {
          "output_type": "stream",
          "text": [
            "[1, 0, 0, 0] 16\n",
            "[1, 0, 0, 0] 16\n",
            "[1, 0, 3, 0] 1\n",
            "[1, 0, 3, 1] 0\n"
          ],
          "name": "stdout"
        }
      ]
    }
  ]
}