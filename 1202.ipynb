{
  "nbformat": 4,
  "nbformat_minor": 0,
  "metadata": {
    "colab": {
      "name": "1202.ipynb",
      "provenance": [],
      "collapsed_sections": [],
      "authorship_tag": "ABX9TyP0kdAaChea05t34OejlBKh",
      "include_colab_link": true
    },
    "kernelspec": {
      "name": "python3",
      "display_name": "Python 3"
    }
  },
  "cells": [
    {
      "cell_type": "markdown",
      "metadata": {
        "id": "view-in-github",
        "colab_type": "text"
      },
      "source": [
        "<a href=\"https://colab.research.google.com/github/huangsanyi531/Algorithm/blob/master/1202.ipynb\" target=\"_parent\"><img src=\"https://colab.research.google.com/assets/colab-badge.svg\" alt=\"Open In Colab\"/></a>"
      ]
    },
    {
      "cell_type": "markdown",
      "metadata": {
        "id": "9hcbgFweOQkj"
      },
      "source": [
        "貪婪演算法:零錢問題"
      ]
    },
    {
      "cell_type": "code",
      "metadata": {
        "id": "y34pnHuCI-xt",
        "colab": {
          "base_uri": "https://localhost:8080/"
        },
        "outputId": "bfc12a2d-faf1-41f3-d025-3b5c91b5c703"
      },
      "source": [
        "# t = 面額\n",
        "t = [25,20,5,1]\n",
        "\n",
        "# n=多少錢\n",
        "def change(t,n):\n",
        "  m = [0 for _ in range(len(t))]\n",
        "  for i,money in enumerate(t): #i是index，money是value\n",
        "    m[i] = n//money\n",
        "    n = n%money\n",
        "    print(m,n)\n",
        "  #return m,n\n",
        "\n",
        "n = int(input(\"請輸入零錢數\"))\n",
        "change(t,n)"
      ],
      "execution_count": 92,
      "outputs": [
        {
          "output_type": "stream",
          "text": [
            "請輸入零錢數36\n",
            "[1, 0, 0, 0] 11\n",
            "[1, 0, 0, 0] 11\n",
            "[1, 0, 2, 0] 1\n",
            "[1, 0, 2, 1] 0\n"
          ],
          "name": "stdout"
        }
      ]
    },
    {
      "cell_type": "markdown",
      "metadata": {
        "id": "t_Eg-5V4OUzv"
      },
      "source": [
        "動態規劃:零錢問題"
      ]
    },
    {
      "cell_type": "code",
      "metadata": {
        "colab": {
          "base_uri": "https://localhost:8080/"
        },
        "id": "AbB1DbuFOPhC",
        "outputId": "22b7aa55-77d9-4879-92a0-a9d9f68b7106"
      },
      "source": [
        "# t = 面額\n",
        "#t = [25,20,5,1]\n",
        "\n",
        "# n=多少錢\n",
        "def getMinCounts(k, values):\n",
        "    memo = [-1] * (k + 1)\n",
        "    memo[0] = 0 # 初始化狀態\n",
        "    for item in range(1, k + 1):\n",
        "       memo[item] = k + 1\n",
        "   \n",
        "    for item in range(1, k + 1):\n",
        "        for coin in values:\n",
        "            if (item - coin < 0):\n",
        "                continue\n",
        "            memo[item] = min(memo[item], memo[item - coin] + 1) # 作出決策\n",
        "\n",
        "    return memo[k]\n",
        "\n",
        "def getMinCountsDPSol():\n",
        "    values = [25,20,5,1] # 硬幣面值\n",
        "    total = 22 # 總值\n",
        "\n",
        "    # 求得最小的硬幣數量\n",
        "    return getMinCounts(total, values) # 輸出答案\n",
        "\n",
        "def main():\n",
        "    result = getMinCountsDPSol()\n",
        "    print(result)\n",
        "\n",
        "if __name__ == \"__main__\":\n",
        "    main()"
      ],
      "execution_count": 49,
      "outputs": [
        {
          "output_type": "stream",
          "text": [
            "3\n"
          ],
          "name": "stdout"
        }
      ]
    },
    {
      "cell_type": "markdown",
      "metadata": {
        "id": "gJLmvKF4UBM5"
      },
      "source": [
        "貪婪演算法:背包問題"
      ]
    },
    {
      "cell_type": "code",
      "metadata": {
        "colab": {
          "base_uri": "https://localhost:8080/"
        },
        "id": "FepQKEEAUEHv",
        "outputId": "6737837d-7cb8-4a5f-f504-4fd3c27c3f79"
      },
      "source": [
        "N =5\n",
        "Name = [\"PS5\",\"iPad pro 12\",\"Macbook pro 15\",\"HomePod\",\"Mac mini\"]\n",
        "Weight = [5,1,4,3,2]\n",
        "Value = [17000,35000,50000,9000,20000]\n",
        "C =10\n",
        "\n",
        "def bag(n,w,v,c,a):\n",
        "  x = [] #背包內物品，什麼都還沒拿，預設為0\n",
        "  m = 0 #背包內物品總重，什麼都還沒拿，預設為0\n",
        "  t = 0 #背包內物品價值，什麼都還沒拿，預設為0\n",
        "  while True:\n",
        "    if (m + w[v.index(max(v))] < c):\n",
        "      m += w[v.index(max(v))]\n",
        "      t += max(v)\n",
        "      #x.append(Name.index(max(v)))\n",
        "      removeValue = max(v) #先將要移除的值的index記下，免得先移除後index亂掉，會移除錯項目\n",
        "      removeWeight = w[v.index(max(v))] #同上\n",
        "      removeName = a[v.index(max(v))]\n",
        "      x.append(a[v.index(max(v))])\n",
        "      v.remove(removeValue)  #每項物品只能拿一次，拿過就刪掉\n",
        "      w.remove(removeWeight) #同上\n",
        "      a.remove(removeName) #同上\n",
        "    else:\n",
        "      break\n",
        "  return (m,t,x)\n",
        "\n",
        "print(bag(N,Weight,Value,C,Name))\n",
        "\n",
        "\n",
        "\n"
      ],
      "execution_count": 72,
      "outputs": [
        {
          "output_type": "stream",
          "text": [
            "(7, 105000, ['Macbook pro 15', 'iPad pro 12', 'Mac mini'])\n"
          ],
          "name": "stdout"
        }
      ]
    },
    {
      "cell_type": "markdown",
      "metadata": {
        "id": "DrvnsehUUEdH"
      },
      "source": [
        "動態規劃:背包問題"
      ]
    },
    {
      "cell_type": "code",
      "metadata": {
        "colab": {
          "base_uri": "https://localhost:8080/"
        },
        "id": "WL_OgJa0UGfy",
        "outputId": "b7827fc3-bd79-4605-96b5-de912b9bacae"
      },
      "source": [
        "# A naive recursive implementation of 0-1 Knapsack Problem \n",
        "  \n",
        "# Returns the maximum value that can be put in a knapsack of \n",
        "# capacity W \n",
        "def knapSack(W, wt, val, n): \n",
        "  \n",
        "    # Base Case \n",
        "    if n == 0 or W == 0 : \n",
        "        return 0\n",
        "  \n",
        "    # If weight of the nth item is more than Knapsack of capacity \n",
        "    # W, then this item cannot be included in the optimal solution \n",
        "    if (wt[n-1] > W): \n",
        "        return knapSack(W, wt, val, n-1) \n",
        "  \n",
        "    # return the maximum of two cases: \n",
        "    # (1) nth item included \n",
        "    # (2) not included \n",
        "    else: \n",
        "        return max(val[n-1] + knapSack(W-wt[n-1], wt, val, n-1), \n",
        "                   knapSack(W, wt, val, n-1)) \n",
        "  \n",
        "# end of function knapSack \n",
        "  \n",
        "# To test above function \n",
        "val = [17000,35000,60000,9000,20000] \n",
        "wt = [5,1,4,3,2]\n",
        "W = 10\n",
        "n = len(val)\n",
        "print(knapSack(W, wt, val, n))\n",
        "\n",
        "# This code is contributed by Nikhil Kumar Singh"
      ],
      "execution_count": 91,
      "outputs": [
        {
          "output_type": "stream",
          "text": [
            "124000\n"
          ],
          "name": "stdout"
        }
      ]
    }
  ]
}