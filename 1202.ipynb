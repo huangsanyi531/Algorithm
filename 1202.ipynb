{
  "nbformat": 4,
  "nbformat_minor": 0,
  "metadata": {
    "colab": {
      "name": "1202.ipynb",
      "provenance": [],
      "collapsed_sections": [],
      "authorship_tag": "ABX9TyMSxebx729G5gcTigBct8PE",
      "include_colab_link": true
    },
    "kernelspec": {
      "name": "python3",
      "display_name": "Python 3"
    }
  },
  "cells": [
    {
      "cell_type": "markdown",
      "metadata": {
        "id": "view-in-github",
        "colab_type": "text"
      },
      "source": [
        "<a href=\"https://colab.research.google.com/github/huangsanyi531/Algorithm/blob/master/1202.ipynb\" target=\"_parent\"><img src=\"https://colab.research.google.com/assets/colab-badge.svg\" alt=\"Open In Colab\"/></a>"
      ]
    },
    {
      "cell_type": "code",
      "metadata": {
        "id": "y34pnHuCI-xt",
        "colab": {
          "base_uri": "https://localhost:8080/"
        },
        "outputId": "57353838-df62-4e52-f2b0-683076d86c86"
      },
      "source": [
        "t = [25,20,5,1]\n",
        "\n",
        "# n=多少錢\n",
        "def change(t,n):\n",
        "  m = [0 for _ in range(len(t))]\n",
        "  for i,money in enumerate(t):\n",
        "    m[i] = n//money\n",
        "    n = n%money\n",
        "    print(m,n)\n",
        "  #return m,n\n",
        "  \n",
        "n = int(input())\n",
        "change(t,n)"
      ],
      "execution_count": 19,
      "outputs": [
        {
          "output_type": "stream",
          "text": [
            "20\n",
            "[0, 0, 0, 0] 20\n",
            "[0, 1, 0, 0] 0\n",
            "[0, 1, 0, 0] 0\n",
            "[0, 1, 0, 0] 0\n"
          ],
          "name": "stdout"
        }
      ]
    }
  ]
}