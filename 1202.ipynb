{
  "nbformat": 4,
  "nbformat_minor": 0,
  "metadata": {
    "colab": {
      "name": "1202.ipynb",
      "provenance": [],
      "collapsed_sections": [],
      "authorship_tag": "ABX9TyN8//jgrBJwayMEPtR6wuVe",
      "include_colab_link": true
    },
    "kernelspec": {
      "name": "python3",
      "display_name": "Python 3"
    }
  },
  "cells": [
    {
      "cell_type": "markdown",
      "metadata": {
        "id": "view-in-github",
        "colab_type": "text"
      },
      "source": [
        "<a href=\"https://colab.research.google.com/github/huangsanyi531/Algorithm/blob/master/1202.ipynb\" target=\"_parent\"><img src=\"https://colab.research.google.com/assets/colab-badge.svg\" alt=\"Open In Colab\"/></a>"
      ]
    },
    {
      "cell_type": "code",
      "metadata": {
        "id": "y34pnHuCI-xt",
        "colab": {
          "base_uri": "https://localhost:8080/"
        },
        "outputId": "1f0f26ef-2ee5-4fe4-d0b5-2d67cccacca2"
      },
      "source": [
        "t = [25,20,5,1]\n",
        "\n",
        "# n=多少錢\n",
        "def change(t,n):\n",
        "  m = [0 for _ in range(len(t))]\n",
        "  for i,money in enumerate(t):\n",
        "    m[i] = n//money\n",
        "    n = n%money\n",
        "    print(m,n)\n",
        "  #return m,n\n",
        "\n",
        "n = int(input(\"請輸入零錢數\"))\n",
        "change(t,n)"
      ],
      "execution_count": 25,
      "outputs": [
        {
          "output_type": "stream",
          "text": [
            "請輸入零錢數62\n",
            "[2, 0, 0, 0] 12\n",
            "[2, 0, 0, 0] 12\n",
            "[2, 0, 2, 0] 2\n",
            "[2, 0, 2, 2] 0\n"
          ],
          "name": "stdout"
        }
      ]
    }
  ]
}