{
  "nbformat": 4,
  "nbformat_minor": 0,
  "metadata": {
    "colab": {
      "name": "1202.ipynb",
      "provenance": [],
      "collapsed_sections": [],
      "authorship_tag": "ABX9TyPhChnQirKMGRw+c5RyHtwT",
      "include_colab_link": true
    },
    "kernelspec": {
      "name": "python3",
      "display_name": "Python 3"
    }
  },
  "cells": [
    {
      "cell_type": "markdown",
      "metadata": {
        "id": "view-in-github",
        "colab_type": "text"
      },
      "source": [
        "<a href=\"https://colab.research.google.com/github/huangsanyi531/Algorithm/blob/master/1202.ipynb\" target=\"_parent\"><img src=\"https://colab.research.google.com/assets/colab-badge.svg\" alt=\"Open In Colab\"/></a>"
      ]
    },
    {
      "cell_type": "markdown",
      "metadata": {
        "id": "9hcbgFweOQkj"
      },
      "source": [
        "貪婪演算法:零錢問題"
      ]
    },
    {
      "cell_type": "code",
      "metadata": {
        "id": "y34pnHuCI-xt",
        "colab": {
          "base_uri": "https://localhost:8080/"
        },
        "outputId": "1f0f26ef-2ee5-4fe4-d0b5-2d67cccacca2"
      },
      "source": [
        "# t = 面額\n",
        "t = [25,20,5,1]\n",
        "\n",
        "# n=多少錢\n",
        "def change(t,n):\n",
        "  m = [0 for _ in range(len(t))]\n",
        "  for i,money in enumerate(t):\n",
        "    m[i] = n//money\n",
        "    n = n%money\n",
        "    print(m,n)\n",
        "  #return m,n\n",
        "\n",
        "n = int(input(\"請輸入零錢數\"))\n",
        "change(t,n)"
      ],
      "execution_count": 25,
      "outputs": [
        {
          "output_type": "stream",
          "text": [
            "請輸入零錢數62\n",
            "[2, 0, 0, 0] 12\n",
            "[2, 0, 0, 0] 12\n",
            "[2, 0, 2, 0] 2\n",
            "[2, 0, 2, 2] 0\n"
          ],
          "name": "stdout"
        }
      ]
    },
    {
      "cell_type": "markdown",
      "metadata": {
        "id": "t_Eg-5V4OUzv"
      },
      "source": [
        "動態規劃:零錢問題"
      ]
    },
    {
      "cell_type": "code",
      "metadata": {
        "colab": {
          "base_uri": "https://localhost:8080/"
        },
        "id": "AbB1DbuFOPhC",
        "outputId": "22b7aa55-77d9-4879-92a0-a9d9f68b7106"
      },
      "source": [
        "# t = 面額\n",
        "#t = [25,20,5,1]\n",
        "\n",
        "# n=多少錢\n",
        "def getMinCounts(k, values):\n",
        "    memo = [-1] * (k + 1)\n",
        "    memo[0] = 0 # 初始化狀態\n",
        "    for item in range(1, k + 1):\n",
        "       memo[item] = k + 1\n",
        "   \n",
        "    for item in range(1, k + 1):\n",
        "        for coin in values:\n",
        "            if (item - coin < 0):\n",
        "                continue\n",
        "            memo[item] = min(memo[item], memo[item - coin] + 1) # 作出決策\n",
        "\n",
        "    return memo[k]\n",
        "\n",
        "def getMinCountsDPSol():\n",
        "    values = [25,20,5,1] # 硬幣面值\n",
        "    total = 22 # 總值\n",
        "\n",
        "    # 求得最小的硬幣數量\n",
        "    return getMinCounts(total, values) # 輸出答案\n",
        "\n",
        "def main():\n",
        "    result = getMinCountsDPSol()\n",
        "    print(result)\n",
        "\n",
        "if __name__ == \"__main__\":\n",
        "    main()"
      ],
      "execution_count": 49,
      "outputs": [
        {
          "output_type": "stream",
          "text": [
            "3\n"
          ],
          "name": "stdout"
        }
      ]
    },
    {
      "cell_type": "markdown",
      "metadata": {
        "id": "gJLmvKF4UBM5"
      },
      "source": [
        "貪婪演算法:背包問題"
      ]
    },
    {
      "cell_type": "code",
      "metadata": {
        "colab": {
          "base_uri": "https://localhost:8080/"
        },
        "id": "FepQKEEAUEHv",
        "outputId": "6f807a05-e250-4501-bfa0-1d97cb9b49f1"
      },
      "source": [
        "N =5\n",
        "Weight = [5,1,4,3,2]\n",
        "Value =[17000,35000,50000,9000,20000]\n",
        "C =10\n",
        "\n",
        "def package(n,w,v,c):\n",
        "  m = 0 #背包內物品總重，什麼都還沒拿，預設為0\n",
        "  t = 0 #背包內物品價值，什麼都還沒拿，預設為0\n",
        "  while True:\n",
        "    if (m + w[v.index(max(v))] < c):\n",
        "      m += w[v.index(max(v))]\n",
        "      t += max(v)\n",
        "      removeValue = max(v) #先將要移除的值的index記下，免得先移除後index亂掉，會移除錯項目\n",
        "      removeWeight = w[v.index(max(v))] #同上\n",
        "      v.remove(removeValue)  #每項物品只能拿一次，拿過就去除\n",
        "      w.remove(removeWeight) #同上\n",
        "    else:\n",
        "      break\n",
        "  return (m,t)\n",
        "\n",
        "print(package(N,Weight,Value,C))\n",
        "\n",
        "\n",
        "\n"
      ],
      "execution_count": 57,
      "outputs": [
        {
          "output_type": "stream",
          "text": [
            "(7, 105000)\n"
          ],
          "name": "stdout"
        }
      ]
    },
    {
      "cell_type": "markdown",
      "metadata": {
        "id": "DrvnsehUUEdH"
      },
      "source": [
        "動態規劃:背包問題"
      ]
    },
    {
      "cell_type": "code",
      "metadata": {
        "id": "WL_OgJa0UGfy"
      },
      "source": [
        ""
      ],
      "execution_count": null,
      "outputs": []
    }
  ]
}