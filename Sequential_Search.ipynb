{
  "nbformat": 4,
  "nbformat_minor": 0,
  "metadata": {
    "colab": {
      "name": "Sequential_Search.ipynb",
      "provenance": [],
      "collapsed_sections": [],
      "authorship_tag": "ABX9TyMWIaQIyEobfHYTOefyvXn1",
      "include_colab_link": true
    },
    "kernelspec": {
      "name": "python3",
      "display_name": "Python 3"
    }
  },
  "cells": [
    {
      "cell_type": "markdown",
      "metadata": {
        "id": "view-in-github",
        "colab_type": "text"
      },
      "source": [
        "<a href=\"https://colab.research.google.com/github/huangsanyi531/Algorithm/blob/master/Sequential_Search.ipynb\" target=\"_parent\"><img src=\"https://colab.research.google.com/assets/colab-badge.svg\" alt=\"Open In Colab\"/></a>"
      ]
    },
    {
      "cell_type": "code",
      "metadata": {
        "id": "gFuhv5iFw9UO",
        "outputId": "51817eb4-c094-498a-c1a1-3240a64ffc25",
        "colab": {
          "base_uri": "https://localhost:8080/",
          "height": 51
        }
      },
      "source": [
        "data = [20,31,50,17,16,36,19,8]\n",
        "\n",
        "def sequential_search(data, key):\n",
        "  for i in data:\n",
        "    if i == key:\n",
        "      print(\"找到了\")\n",
        "      break\n",
        "  else:\n",
        "    print(\"找不到\")\n",
        "\n",
        "sequential_search(data, 17) #在陣列中\n",
        "sequential_search(data, 200) #不在陣列中"
      ],
      "execution_count": 19,
      "outputs": [
        {
          "output_type": "stream",
          "text": [
            "找到了\n",
            "找不到\n"
          ],
          "name": "stdout"
        }
      ]
    }
  ]
}