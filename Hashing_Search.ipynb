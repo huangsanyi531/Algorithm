{
  "nbformat": 4,
  "nbformat_minor": 0,
  "metadata": {
    "colab": {
      "name": "Hashing_Search.ipynb",
      "provenance": [],
      "authorship_tag": "ABX9TyMnh+xaJS3kjtWOO6kAkiV8",
      "include_colab_link": true
    },
    "kernelspec": {
      "name": "python3",
      "display_name": "Python 3"
    }
  },
  "cells": [
    {
      "cell_type": "markdown",
      "metadata": {
        "id": "view-in-github",
        "colab_type": "text"
      },
      "source": [
        "<a href=\"https://colab.research.google.com/github/huangsanyi531/Algorithm/blob/master/Hashing_Search.ipynb\" target=\"_parent\"><img src=\"https://colab.research.google.com/assets/colab-badge.svg\" alt=\"Open In Colab\"/></a>"
      ]
    },
    {
      "cell_type": "markdown",
      "metadata": {
        "id": "gxMbsUZfD7N4"
      },
      "source": [
        "Linear probing"
      ]
    },
    {
      "cell_type": "code",
      "metadata": {
        "id": "QPaQ-MOvBXUA",
        "outputId": "ec61281e-e387-4751-8721-976237ca3a54",
        "colab": {
          "base_uri": "https://localhost:8080/",
          "height": 221
        }
      },
      "source": [
        "import random\n",
        "\n",
        "INDEXBOX=10\n",
        "MAXNUM=7\n",
        "\n",
        "def print_data(data,max_number):\n",
        "  print(\"\\t\",end=\"\")\n",
        "  for i in range(max_number):\n",
        "    print(\"[%2d]\" %data[i],end=\"\")\n",
        "  print()\n",
        "\n",
        "def create_table(num,index):\n",
        "  tmp=num % INDEXBOX\n",
        "  while True:\n",
        "    if index[tmp] == -1:\n",
        "      index[tmp] = num\n",
        "      break\n",
        "    else:\n",
        "      tmp = (tmp+1) % INDEXBOX\n",
        "\n",
        "index = [None]*INDEXBOX\n",
        "data = [None]*MAXNUM\n",
        "\n",
        "print(\"原始陣列值:\")\n",
        "for i in range(MAXNUM):\n",
        "  data[i] = random.randint(1,20)\n",
        "for i in range(INDEXBOX):\n",
        "  index[i] = -1\n",
        "print_data(data, MAXNUM)\n",
        "\n",
        "print(\"雜湊表內容:\")\n",
        "for i in  range(MAXNUM):\n",
        "  create_table(data[i],index)\n",
        "  print(\"%2d =>\" %data[i],end=\"\")\n",
        "  print_data(index,INDEXBOX)\n",
        "\n",
        "print(\"完成雜湊表:\")\n",
        "print_data(index,INDEXBOX)"
      ],
      "execution_count": 5,
      "outputs": [
        {
          "output_type": "stream",
          "text": [
            "原始陣列值:\n",
            "\t[16][ 7][19][20][ 8][10][20]\n",
            "雜湊表內容:\n",
            "16 =>\t[-1][-1][-1][-1][-1][-1][16][-1][-1][-1]\n",
            " 7 =>\t[-1][-1][-1][-1][-1][-1][16][ 7][-1][-1]\n",
            "19 =>\t[-1][-1][-1][-1][-1][-1][16][ 7][-1][19]\n",
            "20 =>\t[20][-1][-1][-1][-1][-1][16][ 7][-1][19]\n",
            " 8 =>\t[20][-1][-1][-1][-1][-1][16][ 7][ 8][19]\n",
            "10 =>\t[20][10][-1][-1][-1][-1][16][ 7][ 8][19]\n",
            "20 =>\t[20][10][20][-1][-1][-1][16][ 7][ 8][19]\n",
            "完成雜湊表:\n",
            "\t[20][10][20][-1][-1][-1][16][ 7][ 8][19]\n"
          ],
          "name": "stdout"
        }
      ]
    },
    {
      "cell_type": "markdown",
      "metadata": {
        "id": "c6f4-LjbEGBf"
      },
      "source": [
        "Quadratic probing"
      ]
    },
    {
      "cell_type": "code",
      "metadata": {
        "id": "AaFftV-QEFR_",
        "outputId": "dc61083a-d73b-4e2c-cec2-928aabf10071",
        "colab": {
          "base_uri": "https://localhost:8080/",
          "height": 221
        }
      },
      "source": [
        "import random\n",
        "import math\n",
        "\n",
        "INDEXBOX=10\n",
        "MAXNUM=7\n",
        "\n",
        "def print_data(data,max_number):\n",
        "  print(\"\\t\",end=\"\")\n",
        "  for i in range(max_number):\n",
        "    print(\"[%2d]\" %data[i],end=\"\")\n",
        "  print()\n",
        "\n",
        "def create_table(num,index):\n",
        "  tmp=num % INDEXBOX\n",
        "  x = 1   #先宣告x=1在while外面\n",
        "  while True:\n",
        "    if index[tmp] == -1:\n",
        "      index[tmp] = num\n",
        "      break\n",
        "    else:                   #將線性探測法修改\n",
        "      tmp = num % INDEXBOX        #使tmp值為一開始的值 不會改變\n",
        "      tmp = (tmp+int(math.pow(x,2))) % INDEXBOX  #導入math 讓tmp加x的平方 可是tmp的值會改變 \n",
        "      x+=1            #若還是發生溢位的情形 讓x+1\n",
        "\n",
        "\n",
        "index = [None]*INDEXBOX\n",
        "data = [None]*MAXNUM\n",
        "\n",
        "print(\"原始陣列值:\")\n",
        "for i in range(MAXNUM):\n",
        "  data[i] = random.randint(1,20)\n",
        "for i in range(INDEXBOX):\n",
        "  index[i] = -1\n",
        "print_data(data, MAXNUM)\n",
        "\n",
        "print(\"雜湊表內容:\")\n",
        "for i in  range(MAXNUM):\n",
        "  create_table(data[i],index)\n",
        "  print(\"%2d =>\" %data[i],end=\"\")\n",
        "  print_data(index,INDEXBOX)\n",
        "\n",
        "print(\"完成雜湊表:\")\n",
        "print_data(index,INDEXBOX)"
      ],
      "execution_count": 14,
      "outputs": [
        {
          "output_type": "stream",
          "text": [
            "原始陣列值:\n",
            "\t[16][19][ 7][11][10][ 2][ 4]\n",
            "雜湊表內容:\n",
            "16 =>\t[-1][-1][-1][-1][-1][-1][16][-1][-1][-1]\n",
            "19 =>\t[-1][-1][-1][-1][-1][-1][16][-1][-1][19]\n",
            " 7 =>\t[-1][-1][-1][-1][-1][-1][16][ 7][-1][19]\n",
            "11 =>\t[-1][11][-1][-1][-1][-1][16][ 7][-1][19]\n",
            "10 =>\t[10][11][-1][-1][-1][-1][16][ 7][-1][19]\n",
            " 2 =>\t[10][11][ 2][-1][-1][-1][16][ 7][-1][19]\n",
            " 4 =>\t[10][11][ 2][-1][ 4][-1][16][ 7][-1][19]\n",
            "完成雜湊表:\n",
            "\t[10][11][ 2][-1][ 4][-1][16][ 7][-1][19]\n"
          ],
          "name": "stdout"
        }
      ]
    },
    {
      "cell_type": "markdown",
      "metadata": {
        "id": "aSbMBb9eEfJn"
      },
      "source": [
        "Rehashing"
      ]
    },
    {
      "cell_type": "code",
      "metadata": {
        "id": "mTDqWusmEjDg",
        "outputId": "aa83915d-6508-4150-f85a-be562cb70e20",
        "colab": {
          "base_uri": "https://localhost:8080/",
          "height": 221
        }
      },
      "source": [
        "import random\n",
        "\n",
        "INDEXBOX=10\n",
        "MAXNUM=7\n",
        "\n",
        "def print_data(data,max_number):\n",
        "  print(\"\\t\",end=\"\")\n",
        "  for i in range(max_number):\n",
        "    print(\"[%2d]\" %data[i],end=\"\")\n",
        "  print()\n",
        "\n",
        "def create_table(num,index):\n",
        "  tmp=num % INDEXBOX\n",
        "  x = 1     #先宣告x=1在while外面\n",
        "  while True:\n",
        "    if index[tmp] == -1:\n",
        "      index[tmp] = num\n",
        "      break\n",
        "    else:\n",
        "      tmp = num % INDEXBOX  #使tmp值為一開始的值 不會改變\n",
        "      tmp = (tmp+x) % INDEXBOX\n",
        "      x += 1     #這邊用1的原因是因為1最簡單  2或以上的數字可能會讓程式卡住\n",
        "\n",
        "index = [None]*INDEXBOX\n",
        "data = [None]*MAXNUM\n",
        "\n",
        "print(\"原始陣列值:\")\n",
        "for i in range(MAXNUM):\n",
        "  data[i] = random.randint(1,20)\n",
        "for i in range(INDEXBOX):\n",
        "  index[i] = -1\n",
        "print_data(data, MAXNUM)\n",
        "\n",
        "print(\"雜湊表內容:\")\n",
        "for i in  range(MAXNUM):\n",
        "  create_table(data[i],index)\n",
        "  print(\"%2d =>\" %data[i],end=\"\")\n",
        "  print_data(index,INDEXBOX)\n",
        "\n",
        "print(\"完成雜湊表:\")\n",
        "print_data(index,INDEXBOX)"
      ],
      "execution_count": 20,
      "outputs": [
        {
          "output_type": "stream",
          "text": [
            "原始陣列值:\n",
            "\t[ 8][15][20][ 5][19][ 4][ 9]\n",
            "雜湊表內容:\n",
            " 8 =>\t[-1][-1][-1][-1][-1][-1][-1][-1][ 8][-1]\n",
            "15 =>\t[-1][-1][-1][-1][-1][15][-1][-1][ 8][-1]\n",
            "20 =>\t[20][-1][-1][-1][-1][15][-1][-1][ 8][-1]\n",
            " 5 =>\t[20][-1][-1][-1][-1][15][ 5][-1][ 8][-1]\n",
            "19 =>\t[20][-1][-1][-1][-1][15][ 5][-1][ 8][19]\n",
            " 4 =>\t[20][-1][-1][-1][ 4][15][ 5][-1][ 8][19]\n",
            " 9 =>\t[20][ 9][-1][-1][ 4][15][ 5][-1][ 8][19]\n",
            "完成雜湊表:\n",
            "\t[20][ 9][-1][-1][ 4][15][ 5][-1][ 8][19]\n"
          ],
          "name": "stdout"
        }
      ]
    }
  ]
}